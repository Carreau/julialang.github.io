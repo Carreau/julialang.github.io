{
 "metadata": {
  "language": "Julia",
  "name": "",
  "signature": "sha256:c2ffc3fb8fcac8d87802e3894cad2a54f5ba6c98eece96ef99012a8a63616698"
 },
 "nbformat": 3,
 "nbformat_minor": 0,
 "worksheets": [
  {
   "cells": [
    {
     "cell_type": "code",
     "collapsed": false,
     "input": [
      "using DataFrames\n",
      "using Gadfly"
     ],
     "language": "python",
     "metadata": {},
     "outputs": []
    },
    {
     "cell_type": "code",
     "collapsed": false,
     "input": [
      "benchmarks = readtable(\"benchmarks.csv\", names=[:language, :benchmark, :time])\n",
      "benchmarks = join(benchmarks, sub(benchmarks, :(language .== \"c\")), on=:benchmark, kind=:outer)\n",
      "benchmarks[:time] /= time_1))\n",
      "within!(benchmarks, :(time ./= time_1))\n",
      "benchmarks[:language] = PooledDataArray(benchmarks[:language])\n",
      "benchmarks[:language] = reorder(benchmarks[:language], benchmarks[:time])\n",
      "benchmarks[:benchmark] = PooledDataArray(benchmarks[:benchmark])\n",
      "benchmarks[:benchmark] = reorder(benchmarks[:benchmark], benchmarks[:time])\n",
      "benchmarks = benchmarks[:(language .!= \"c\"),:]\n",
      "benchmarks[:language] = set_levels!(benchmarks[:language], Dict{Any,Any}(benchmarks[:language],\n",
      "  [ lang == \"javascript\" ? \"JavaScript\" : ucfirst(lang) for lang in benchmarks[:language]]));"
     ],
     "language": "python",
     "metadata": {},
     "outputs": []
    },
    {
     "cell_type": "code",
     "collapsed": false,
     "input": [
      "p = plot(benchmarks,\n",
      "    x = :language,\n",
      "    y = :time,\n",
      "    color = :benchmark,\n",
      "    Scale.y_log10,\n",
      "    Guide.ylabel(nothing),\n",
      "    Guide.xlabel(nothing),\n",
      "    Theme(\n",
      "        default_point_size = 1mm,\n",
      "        guide_title_position = :left,\n",
      "        colorkey_swatch_shape = :circle,\n",
      "        minor_label_font = \"Georgia\",\n",
      "        major_label_font = \"Georgia\",\n",
      "    ),\n",
      ")\n",
      "draw(SVG(8inch,8inch/golden), p)"
     ],
     "language": "python",
     "metadata": {},
     "outputs": []
    },
    {
     "cell_type": "code",
     "collapsed": false,
     "input": [
      "draw(SVG(\"_includes/benchmarks.svg\", 8inch, 8inch/golden), p)"
     ],
     "language": "python",
     "metadata": {},
     "outputs": []
    }
   ],
   "metadata": {}
  }
 ]
}